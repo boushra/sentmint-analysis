{
 "cells": [
  {
   "cell_type": "code",
   "execution_count": 1,
   "metadata": {},
   "outputs": [
    {
     "name": "stderr",
     "output_type": "stream",
     "text": [
      "[nltk_data] Downloading package stopwords to\n",
      "[nltk_data]     C:\\Users\\razah\\AppData\\Roaming\\nltk_data...\n",
      "[nltk_data]   Package stopwords is already up-to-date!\n"
     ]
    }
   ],
   "source": [
    "#أستدعاء المكتبات \n",
    "\n",
    "import tweepy    #مكتبة تويبي للربط مع تويتر وجمع البيانات\n",
    "import pandas as pd  #  مكتبة بانداز للتعامل مع الجداول والداتافريم\n",
    "import re  # هذه المكتبة سوف نستعملها في ازالة الرموز \n",
    "import jsonpickle #  لتحويل البيانات التي يتم جلبها من تويتر الى صيغة json \n",
    "import string # مكتبة سترينق للتعامل مع النصوص \n",
    "\n",
    "import numpy as np\n",
    "import nltk\n",
    "nltk.download('stopwords')\n",
    "from nltk.corpus import stopwords\n",
    "from nltk.stem.porter import PorterStemmer "
   ]
  },
  {
   "cell_type": "markdown",
   "metadata": {},
   "source": [
    "## Read data"
   ]
  },
  {
   "cell_type": "code",
   "execution_count": 2,
   "metadata": {},
   "outputs": [
    {
     "data": {
      "text/html": [
       "<div>\n",
       "<style scoped>\n",
       "    .dataframe tbody tr th:only-of-type {\n",
       "        vertical-align: middle;\n",
       "    }\n",
       "\n",
       "    .dataframe tbody tr th {\n",
       "        vertical-align: top;\n",
       "    }\n",
       "\n",
       "    .dataframe thead th {\n",
       "        text-align: right;\n",
       "    }\n",
       "</style>\n",
       "<table border=\"1\" class=\"dataframe\">\n",
       "  <thead>\n",
       "    <tr style=\"text-align: right;\">\n",
       "      <th></th>\n",
       "      <th>Tweet_id</th>\n",
       "      <th>sentiment</th>\n",
       "      <th>text</th>\n",
       "    </tr>\n",
       "  </thead>\n",
       "  <tbody>\n",
       "    <tr>\n",
       "      <th>0</th>\n",
       "      <td>1221875106206638080</td>\n",
       "      <td>Positive</td>\n",
       "      <td>@nas_alharbi8 والله حسب الأرقام سيكون مخيب للآ...</td>\n",
       "    </tr>\n",
       "    <tr>\n",
       "      <th>1</th>\n",
       "      <td>1221884257490042887</td>\n",
       "      <td>Neutral</td>\n",
       "      <td>\"الزعل بيغير ملامحك ، بيغير نظرة العين ، بيغير...</td>\n",
       "    </tr>\n",
       "    <tr>\n",
       "      <th>2</th>\n",
       "      <td>1226422627436310528</td>\n",
       "      <td>Positive</td>\n",
       "      <td>الحب الحقيقي هو اقتسام بعض نفسك مع شخص أخر أقر...</td>\n",
       "    </tr>\n",
       "    <tr>\n",
       "      <th>3</th>\n",
       "      <td>1221880820815798277</td>\n",
       "      <td>Positive</td>\n",
       "      <td>@Mo_Fat7 النهضة في فتيل 😂</td>\n",
       "    </tr>\n",
       "    <tr>\n",
       "      <th>4</th>\n",
       "      <td>1221884400377499651</td>\n",
       "      <td>Neutral</td>\n",
       "      <td>@halgawi @DmfMohe ليس حباً في ايران بقدر ماهو ...</td>\n",
       "    </tr>\n",
       "    <tr>\n",
       "      <th>5</th>\n",
       "      <td>1221881406168731649</td>\n",
       "      <td>Neutral</td>\n",
       "      <td>@adalfahadduwail أبي أعرف الحاكم العربي المسلم...</td>\n",
       "    </tr>\n",
       "    <tr>\n",
       "      <th>6</th>\n",
       "      <td>1221882066561830912</td>\n",
       "      <td>Positive</td>\n",
       "      <td>ثقي قلباً وقالباً معاكِ وفخورين فيكِ وين مارحت...</td>\n",
       "    </tr>\n",
       "    <tr>\n",
       "      <th>7</th>\n",
       "      <td>1221882047691657217</td>\n",
       "      <td>Neutral</td>\n",
       "      <td>@sarmadbouchamou @DimaSadek في الخطاب تبع سليم...</td>\n",
       "    </tr>\n",
       "    <tr>\n",
       "      <th>8</th>\n",
       "      <td>1221880371773673474</td>\n",
       "      <td>Neutral</td>\n",
       "      <td>@FofaMahmouddd مفيش الكلام ده في الزمن</td>\n",
       "    </tr>\n",
       "    <tr>\n",
       "      <th>9</th>\n",
       "      <td>1226410076623245313</td>\n",
       "      <td>Neutral</td>\n",
       "      <td>@elm عندي مشكله لما تبي اجدد إقامة عامل حاولت ...</td>\n",
       "    </tr>\n",
       "  </tbody>\n",
       "</table>\n",
       "</div>"
      ],
      "text/plain": [
       "              Tweet_id sentiment  \\\n",
       "0  1221875106206638080  Positive   \n",
       "1  1221884257490042887   Neutral   \n",
       "2  1226422627436310528  Positive   \n",
       "3  1221880820815798277  Positive   \n",
       "4  1221884400377499651   Neutral   \n",
       "5  1221881406168731649   Neutral   \n",
       "6  1221882066561830912  Positive   \n",
       "7  1221882047691657217   Neutral   \n",
       "8  1221880371773673474   Neutral   \n",
       "9  1226410076623245313   Neutral   \n",
       "\n",
       "                                                text  \n",
       "0  @nas_alharbi8 والله حسب الأرقام سيكون مخيب للآ...  \n",
       "1  \"الزعل بيغير ملامحك ، بيغير نظرة العين ، بيغير...  \n",
       "2  الحب الحقيقي هو اقتسام بعض نفسك مع شخص أخر أقر...  \n",
       "3                          @Mo_Fat7 النهضة في فتيل 😂  \n",
       "4  @halgawi @DmfMohe ليس حباً في ايران بقدر ماهو ...  \n",
       "5  @adalfahadduwail أبي أعرف الحاكم العربي المسلم...  \n",
       "6  ثقي قلباً وقالباً معاكِ وفخورين فيكِ وين مارحت...  \n",
       "7  @sarmadbouchamou @DimaSadek في الخطاب تبع سليم...  \n",
       "8             @FofaMahmouddd مفيش الكلام ده في الزمن  \n",
       "9  @elm عندي مشكله لما تبي اجدد إقامة عامل حاولت ...  "
      ]
     },
     "execution_count": 2,
     "metadata": {},
     "output_type": "execute_result"
    }
   ],
   "source": [
    "output = pd.read_csv(\"lucidya.csv\")\n",
    "output.head(10)"
   ]
  },
  {
   "cell_type": "code",
   "execution_count": 3,
   "metadata": {},
   "outputs": [
    {
     "data": {
      "text/plain": [
       "(32186, 3)"
      ]
     },
     "execution_count": 3,
     "metadata": {},
     "output_type": "execute_result"
    }
   ],
   "source": [
    "output.shape"
   ]
  },
  {
   "cell_type": "code",
   "execution_count": 4,
   "metadata": {},
   "outputs": [
    {
     "data": {
      "text/plain": [
       "(32001, 3)"
      ]
     },
     "execution_count": 4,
     "metadata": {},
     "output_type": "execute_result"
    }
   ],
   "source": [
    "output = output.drop_duplicates(subset=\"text\")\n",
    "output.shape"
   ]
  },
  {
   "cell_type": "code",
   "execution_count": 5,
   "metadata": {},
   "outputs": [
    {
     "data": {
      "text/html": [
       "<div>\n",
       "<style scoped>\n",
       "    .dataframe tbody tr th:only-of-type {\n",
       "        vertical-align: middle;\n",
       "    }\n",
       "\n",
       "    .dataframe tbody tr th {\n",
       "        vertical-align: top;\n",
       "    }\n",
       "\n",
       "    .dataframe thead th {\n",
       "        text-align: right;\n",
       "    }\n",
       "</style>\n",
       "<table border=\"1\" class=\"dataframe\">\n",
       "  <thead>\n",
       "    <tr style=\"text-align: right;\">\n",
       "      <th></th>\n",
       "      <th>Tweet_id</th>\n",
       "      <th>sentiment</th>\n",
       "      <th>text</th>\n",
       "    </tr>\n",
       "  </thead>\n",
       "  <tbody>\n",
       "    <tr>\n",
       "      <th>0</th>\n",
       "      <td>1221875106206638080</td>\n",
       "      <td>Positive</td>\n",
       "      <td>@nas_alharbi8 والله حسب الأرقام سيكون مخيب للآ...</td>\n",
       "    </tr>\n",
       "    <tr>\n",
       "      <th>1</th>\n",
       "      <td>1221884257490042887</td>\n",
       "      <td>Neutral</td>\n",
       "      <td>\"الزعل بيغير ملامحك ، بيغير نظرة العين ، بيغير...</td>\n",
       "    </tr>\n",
       "    <tr>\n",
       "      <th>2</th>\n",
       "      <td>1226422627436310528</td>\n",
       "      <td>Positive</td>\n",
       "      <td>الحب الحقيقي هو اقتسام بعض نفسك مع شخص أخر أقر...</td>\n",
       "    </tr>\n",
       "    <tr>\n",
       "      <th>3</th>\n",
       "      <td>1221880820815798277</td>\n",
       "      <td>Positive</td>\n",
       "      <td>@Mo_Fat7 النهضة في فتيل 😂</td>\n",
       "    </tr>\n",
       "    <tr>\n",
       "      <th>4</th>\n",
       "      <td>1221884400377499651</td>\n",
       "      <td>Neutral</td>\n",
       "      <td>@halgawi @DmfMohe ليس حباً في ايران بقدر ماهو ...</td>\n",
       "    </tr>\n",
       "    <tr>\n",
       "      <th>...</th>\n",
       "      <td>...</td>\n",
       "      <td>...</td>\n",
       "      <td>...</td>\n",
       "    </tr>\n",
       "    <tr>\n",
       "      <th>31996</th>\n",
       "      <td>197552168667054080</td>\n",
       "      <td>Neutral</td>\n",
       "      <td>#صباح_العربية عمره تجاوز المئة وخطف بطولة العا...</td>\n",
       "    </tr>\n",
       "    <tr>\n",
       "      <th>31997</th>\n",
       "      <td>1254571322321129474</td>\n",
       "      <td>Neutral</td>\n",
       "      <td>@SaudiMOH عندي وصفه طبيه من برنامج وصفتي كيف ا...</td>\n",
       "    </tr>\n",
       "    <tr>\n",
       "      <th>31998</th>\n",
       "      <td>1254391093178793986</td>\n",
       "      <td>Neutral</td>\n",
       "      <td>#متحدث_الصحة @spokesman_moh : \\n\\nتسجيل 1222 إ...</td>\n",
       "    </tr>\n",
       "    <tr>\n",
       "      <th>31999</th>\n",
       "      <td>1254577861345886208</td>\n",
       "      <td>Neutral</td>\n",
       "      <td>طيب يعني ايش اللي بيتغير اشرحوا لنا زي ماتشرخ ...</td>\n",
       "    </tr>\n",
       "    <tr>\n",
       "      <th>32000</th>\n",
       "      <td>1252987912926441474</td>\n",
       "      <td>Neutral</td>\n",
       "      <td>@mhrsd_care السلام عليكم سويت طلب مغادره لليمن...</td>\n",
       "    </tr>\n",
       "  </tbody>\n",
       "</table>\n",
       "<p>32001 rows × 3 columns</p>\n",
       "</div>"
      ],
      "text/plain": [
       "                  Tweet_id sentiment  \\\n",
       "0      1221875106206638080  Positive   \n",
       "1      1221884257490042887   Neutral   \n",
       "2      1226422627436310528  Positive   \n",
       "3      1221880820815798277  Positive   \n",
       "4      1221884400377499651   Neutral   \n",
       "...                    ...       ...   \n",
       "31996   197552168667054080   Neutral   \n",
       "31997  1254571322321129474   Neutral   \n",
       "31998  1254391093178793986   Neutral   \n",
       "31999  1254577861345886208   Neutral   \n",
       "32000  1252987912926441474   Neutral   \n",
       "\n",
       "                                                    text  \n",
       "0      @nas_alharbi8 والله حسب الأرقام سيكون مخيب للآ...  \n",
       "1      \"الزعل بيغير ملامحك ، بيغير نظرة العين ، بيغير...  \n",
       "2      الحب الحقيقي هو اقتسام بعض نفسك مع شخص أخر أقر...  \n",
       "3                              @Mo_Fat7 النهضة في فتيل 😂  \n",
       "4      @halgawi @DmfMohe ليس حباً في ايران بقدر ماهو ...  \n",
       "...                                                  ...  \n",
       "31996  #صباح_العربية عمره تجاوز المئة وخطف بطولة العا...  \n",
       "31997  @SaudiMOH عندي وصفه طبيه من برنامج وصفتي كيف ا...  \n",
       "31998  #متحدث_الصحة @spokesman_moh : \\n\\nتسجيل 1222 إ...  \n",
       "31999  طيب يعني ايش اللي بيتغير اشرحوا لنا زي ماتشرخ ...  \n",
       "32000  @mhrsd_care السلام عليكم سويت طلب مغادره لليمن...  \n",
       "\n",
       "[32001 rows x 3 columns]"
      ]
     },
     "execution_count": 5,
     "metadata": {},
     "output_type": "execute_result"
    }
   ],
   "source": [
    "output = output.reset_index(drop=True)\n",
    "output"
   ]
  },
  {
   "cell_type": "code",
   "execution_count": 6,
   "metadata": {},
   "outputs": [
    {
     "data": {
      "text/plain": [
       "Neutral     22275\n",
       "Positive     4920\n",
       "Negative     4806\n",
       "Name: sentiment, dtype: int64"
      ]
     },
     "execution_count": 6,
     "metadata": {},
     "output_type": "execute_result"
    }
   ],
   "source": [
    "output['sentiment'].value_counts() "
   ]
  },
  {
   "cell_type": "code",
   "execution_count": 7,
   "metadata": {},
   "outputs": [],
   "source": [
    "RANDOM_STATE=33\n",
    "SEN_CLASSES = ['Positive', 'Neutral', 'Negative']"
   ]
  },
  {
   "cell_type": "code",
   "execution_count": 8,
   "metadata": {},
   "outputs": [],
   "source": [
    "def select_dataset(num_samples):\n",
    "    \"\"\"\n",
    "    Create a dataset by selecting the same number of samples from each class\n",
    "    from the original dataset\n",
    "    \"\"\"\n",
    "    df = pd.concat(dataset1[dataset1.sentiment == cls].sample(num_samples, random_state=RANDOM_STATE)\n",
    "                 for cls in SEN_CLASSES)\n",
    "    return df.reset_index(drop=True)"
   ]
  },
  {
   "cell_type": "code",
   "execution_count": 9,
   "metadata": {},
   "outputs": [
    {
     "name": "stdout",
     "output_type": "stream",
     "text": [
      "(32001, 3)\n"
     ]
    },
    {
     "data": {
      "text/html": [
       "<div>\n",
       "<style scoped>\n",
       "    .dataframe tbody tr th:only-of-type {\n",
       "        vertical-align: middle;\n",
       "    }\n",
       "\n",
       "    .dataframe tbody tr th {\n",
       "        vertical-align: top;\n",
       "    }\n",
       "\n",
       "    .dataframe thead th {\n",
       "        text-align: right;\n",
       "    }\n",
       "</style>\n",
       "<table border=\"1\" class=\"dataframe\">\n",
       "  <thead>\n",
       "    <tr style=\"text-align: right;\">\n",
       "      <th></th>\n",
       "      <th>Tweet_id</th>\n",
       "      <th>sentiment</th>\n",
       "      <th>text</th>\n",
       "    </tr>\n",
       "  </thead>\n",
       "  <tbody>\n",
       "    <tr>\n",
       "      <th>16684</th>\n",
       "      <td>1221701521781469185</td>\n",
       "      <td>Neutral</td>\n",
       "      <td>فافرينكا قال في توقعه للسنة ان مفيش حد من الجي...</td>\n",
       "    </tr>\n",
       "    <tr>\n",
       "      <th>27946</th>\n",
       "      <td>1147936696828342272</td>\n",
       "      <td>Neutral</td>\n",
       "      <td>انا بردسي دقيقه ادور زارا يمكن زابن بمكان http...</td>\n",
       "    </tr>\n",
       "    <tr>\n",
       "      <th>13172</th>\n",
       "      <td>1143490774908190720</td>\n",
       "      <td>Neutral</td>\n",
       "      <td>#فايبر_STC_ب99ريال\\nانا ركبته لكن سرعة النت بي...</td>\n",
       "    </tr>\n",
       "    <tr>\n",
       "      <th>20410</th>\n",
       "      <td>1222000996085370881</td>\n",
       "      <td>Positive</td>\n",
       "      <td>\"اليوم أنا صدري رحب.. أحسّ في صدري صباح\"</td>\n",
       "    </tr>\n",
       "    <tr>\n",
       "      <th>11146</th>\n",
       "      <td>1080536983921979393</td>\n",
       "      <td>Neutral</td>\n",
       "      <td>@eMoroor \\nالسلام عليكم ،عندي سيارة ابغ ابيعها...</td>\n",
       "    </tr>\n",
       "  </tbody>\n",
       "</table>\n",
       "</div>"
      ],
      "text/plain": [
       "                  Tweet_id sentiment  \\\n",
       "16684  1221701521781469185   Neutral   \n",
       "27946  1147936696828342272   Neutral   \n",
       "13172  1143490774908190720   Neutral   \n",
       "20410  1222000996085370881  Positive   \n",
       "11146  1080536983921979393   Neutral   \n",
       "\n",
       "                                                    text  \n",
       "16684  فافرينكا قال في توقعه للسنة ان مفيش حد من الجي...  \n",
       "27946  انا بردسي دقيقه ادور زارا يمكن زابن بمكان http...  \n",
       "13172  #فايبر_STC_ب99ريال\\nانا ركبته لكن سرعة النت بي...  \n",
       "20410           \"اليوم أنا صدري رحب.. أحسّ في صدري صباح\"  \n",
       "11146  @eMoroor \\nالسلام عليكم ،عندي سيارة ابغ ابيعها...  "
      ]
     },
     "execution_count": 9,
     "metadata": {},
     "output_type": "execute_result"
    }
   ],
   "source": [
    "#tweets = select_dataset(3333)\n",
    "tweets = output.copy()#select_dataset(3333)\n",
    "print(tweets.shape)\n",
    "tweets.sample(5)"
   ]
  },
  {
   "cell_type": "code",
   "execution_count": 10,
   "metadata": {},
   "outputs": [
    {
     "data": {
      "text/plain": [
       "Neutral     22275\n",
       "Positive     4920\n",
       "Negative     4806\n",
       "Name: sentiment, dtype: int64"
      ]
     },
     "execution_count": 10,
     "metadata": {},
     "output_type": "execute_result"
    }
   ],
   "source": [
    "tweets['sentiment'].value_counts() "
   ]
  },
  {
   "cell_type": "code",
   "execution_count": 11,
   "metadata": {},
   "outputs": [],
   "source": [
    "from nltk.corpus import stopwords\n",
    "from nltk.tokenize import word_tokenize\n",
    "import matplotlib.pyplot as plt"
   ]
  },
  {
   "cell_type": "markdown",
   "metadata": {},
   "source": [
    "## Data Cleaning"
   ]
  },
  {
   "cell_type": "code",
   "execution_count": 12,
   "metadata": {},
   "outputs": [],
   "source": [
    "arabic_punctuations = '''`÷×؛<>_()*&^%][ـ،/:\"؟.,'{}~¦+|!”…“–ـ؛\"-…،'''\n",
    "english_punctuations = string.punctuation\n",
    "punctuations_list = arabic_punctuations + english_punctuations\n",
    "\n",
    "arabic_diacritics = re.compile(\"\"\"\n",
    "                             ّ    | # Tashdid\n",
    "                             َ    | # Fatha\n",
    "                             ً    | # Tanwin Fath\n",
    "                             ُ    | # Damma\n",
    "                             ٌ    | # Tanwin Damm\n",
    "                             ِ    | # Kasra\n",
    "                             ٍ    | # Tanwin Kasr\n",
    "                             ْ    | # Sukun\n",
    "                             ـ     # Tatwil/Kashida\n",
    "                         \"\"\", re.VERBOSE)\n",
    "\n",
    "def normalize_arabic(text):\n",
    "\n",
    "    text = re.sub(\"[إأآا]\", \"ا\", text)\n",
    "    text = re.sub(\"ى\", \"ي\", text)\n",
    "    text = re.sub(\"ؤ\", \"ء\", text)\n",
    "    text = re.sub(\"ئ\", \"ء\", text)\n",
    "    text = re.sub(\"ة\", \"ه\", text)\n",
    "    text = re.sub(\"گ\", \"ك\", text)\n",
    "    return text\n",
    "\n",
    "def remove_diacritics(text):\n",
    "    text = re.sub(arabic_diacritics, '', text)\n",
    "    return text\n",
    "\n",
    "def remove_punctuations(text):\n",
    "    translator  = re.compile('[%s]' % re.escape(punctuations_list))\n",
    "    translator .sub(' ', text)\n",
    "    text = re.sub(' +',' ', text).strip()\n",
    "    return text\n",
    "\n",
    "def remove_repeating_char(text):\n",
    "    return re.sub(r'(.)\\1+', r'\\1\\1', text)\n",
    "\n",
    "def reomve_mentions(text):\n",
    "    return re.sub(r\"(?:\\@|https?\\://)\\S+\", \"\", text)\n",
    "\n",
    "def reomve_english_letter(text):\n",
    "    return re.sub(r'[a-z]+', '', text) \n"
   ]
  },
  {
   "cell_type": "code",
   "execution_count": 13,
   "metadata": {},
   "outputs": [],
   "source": [
    "tweets['text'] = tweets['text'].apply(lambda x: normalize_arabic(x))\n",
    "tweets['text'] = tweets['text'].apply(lambda x: remove_diacritics(x))\n",
    "tweets['text'] = tweets['text'].apply(lambda x: remove_punctuations(x))\n",
    "tweets['text'] = tweets['text'].apply(lambda x: remove_repeating_char(x))\n",
    "tweets['text'] = tweets['text'].apply(lambda x: reomve_mentions(x))\n",
    "tweets['text'] = tweets['text'].apply(lambda x: reomve_english_letter(x))"
   ]
  },
  {
   "cell_type": "code",
   "execution_count": 14,
   "metadata": {},
   "outputs": [],
   "source": [
    "tweets['text'].replace(r'…',' ',inplace=True, regex=True)\n",
    "tweets['text'].replace(r'_',' ',inplace=True, regex=True)\n",
    "tweets['text'].replace(r'\\\\\\)',' ',inplace=True, regex=True)\n",
    "tweets['text'].replace(r'،',' ',inplace=True, regex=True)\n",
    "tweets['text'].replace(r'\"',' ',inplace=True, regex=True)\n",
    "tweets['text'].replace(r'-',' ',inplace=True, regex=True)\n",
    "tweets['text'].replace(r'؛',' ',inplace=True, regex=True)\n",
    "tweets['text'].replace(r'/',' ',inplace=True, regex=True)\n",
    "tweets['text'] = tweets['text'].str.replace('\\d+', ' ')\n",
    "tweets['text'] = tweets['text'].str.replace(' +',' ')\n",
    "tweets['text'] = tweets['text'].str.replace('RT',' ')\n",
    "tweets['text'] = tweets['text'].str.replace('#',' ')\n",
    "tweets['text'] = tweets['text'].str.replace('\\n',' ')\n",
    "\n",
    "tweets['text'] = tweets['text'].str.replace('💔',' ')\n",
    "tweets['text'] = tweets['text'].str.replace('👀',' ')\n",
    "tweets['text'] = tweets['text'].str.replace('🌚',' ')\n",
    "\n"
   ]
  },
  {
   "cell_type": "code",
   "execution_count": 15,
   "metadata": {},
   "outputs": [],
   "source": [
    "import string, re\n",
    "from nltk.tokenize import word_tokenize\n",
    "stop_words = stopwords.words('arabic')"
   ]
  },
  {
   "cell_type": "code",
   "execution_count": 16,
   "metadata": {},
   "outputs": [],
   "source": [
    "def clean_text(text, min_word_len=3, remove_stop_words=True):\n",
    "  \"\"\"Clean a text to remove unwanted characters, short words, and stop words\"\"\"\n",
    "\n",
    "  def filter_text(text):\n",
    "    # remove html entities such as &#123;\n",
    "    text = re.sub(r'&[#0-9a-zA-Z]+;', ' ', text)\n",
    "    # some text is `abc.def`. it should be `abc def` for work tokenizer to work\n",
    "    text = ' '.join(re.split(r'[,.;]', text))\n",
    "    return text\n",
    "\n",
    "  def filter_word(w):\n",
    "    # remove short word\n",
    "    if len(w) < min_word_len: return False\n",
    "    # remove stopword\n",
    "    if remove_stop_words and w in stop_words: return False\n",
    "    # remove word that contains all punctuations\n",
    "    if all(c in string.punctuation for c in w): return False\n",
    "    return True\n",
    "\n",
    "  text = filter_text(text.lower())\n",
    "  words = word_tokenize(text)\n",
    "  return \" \".join(filter(filter_word, words))\n",
    "\n",
    "def clean_df(df, min_word_len=3, remove_stop_words=True):\n",
    "  \"\"\"Clean 'reviewText' column of a dataset\"\"\"\n",
    "  clean_df = tweets.copy()\n",
    "  clean_df['text'] = clean_df['text'].apply(lambda x: clean_text(x, min_word_len, remove_stop_words))\n",
    "  return clean_df\n",
    "\n",
    "def word_counts(df):\n",
    "  print(\"Words Count in each class\")\n",
    "  count = df.groupby('sentiment').apply(lambda x: x.text.apply(lambda x: len(x.split() if type(x) == str else x)).sum())\n",
    "  print(count)"
   ]
  },
  {
   "cell_type": "code",
   "execution_count": 17,
   "metadata": {},
   "outputs": [],
   "source": [
    "dataset1 = clean_df(tweets, remove_stop_words=True)"
   ]
  },
  {
   "cell_type": "code",
   "execution_count": 18,
   "metadata": {},
   "outputs": [
    {
     "data": {
      "text/html": [
       "<div>\n",
       "<style scoped>\n",
       "    .dataframe tbody tr th:only-of-type {\n",
       "        vertical-align: middle;\n",
       "    }\n",
       "\n",
       "    .dataframe tbody tr th {\n",
       "        vertical-align: top;\n",
       "    }\n",
       "\n",
       "    .dataframe thead th {\n",
       "        text-align: right;\n",
       "    }\n",
       "</style>\n",
       "<table border=\"1\" class=\"dataframe\">\n",
       "  <thead>\n",
       "    <tr style=\"text-align: right;\">\n",
       "      <th></th>\n",
       "      <th>Tweet_id</th>\n",
       "      <th>sentiment</th>\n",
       "      <th>text</th>\n",
       "    </tr>\n",
       "  </thead>\n",
       "  <tbody>\n",
       "    <tr>\n",
       "      <th>0</th>\n",
       "      <td>1221875106206638080</td>\n",
       "      <td>Positive</td>\n",
       "      <td>والله حسب الارقام سيكون مخيب للامال الاهلي قده...</td>\n",
       "    </tr>\n",
       "    <tr>\n",
       "      <th>1</th>\n",
       "      <td>1221884257490042887</td>\n",
       "      <td>Neutral</td>\n",
       "      <td>الزعل بيغير ملامحك بيغير نظره العين بيغير شكلك...</td>\n",
       "    </tr>\n",
       "    <tr>\n",
       "      <th>2</th>\n",
       "      <td>1226422627436310528</td>\n",
       "      <td>Positive</td>\n",
       "      <td>الحب الحقيقي اقتسام نفسك شخص اخر اقرب اليك نفس...</td>\n",
       "    </tr>\n",
       "    <tr>\n",
       "      <th>3</th>\n",
       "      <td>1221880820815798277</td>\n",
       "      <td>Positive</td>\n",
       "      <td>النهضه فتيل</td>\n",
       "    </tr>\n",
       "    <tr>\n",
       "      <th>4</th>\n",
       "      <td>1221884400377499651</td>\n",
       "      <td>Neutral</td>\n",
       "      <td>حبا ايران بقدر ماهو نكايه بترامب وحزبه</td>\n",
       "    </tr>\n",
       "    <tr>\n",
       "      <th>5</th>\n",
       "      <td>1221881406168731649</td>\n",
       "      <td>Neutral</td>\n",
       "      <td>ابي اعرف الحاكم العربي المسلم اشلون ينام مايخا...</td>\n",
       "    </tr>\n",
       "    <tr>\n",
       "      <th>6</th>\n",
       "      <td>1221882066561830912</td>\n",
       "      <td>Positive</td>\n",
       "      <td>ثقي قلبا وقالبا معاك وفخورين فيك وين مارحتي ور...</td>\n",
       "    </tr>\n",
       "    <tr>\n",
       "      <th>7</th>\n",
       "      <td>1221882047691657217</td>\n",
       "      <td>Neutral</td>\n",
       "      <td>الخطاب تبع سليم سعاده حطت عالتويتر قال قامو هج...</td>\n",
       "    </tr>\n",
       "    <tr>\n",
       "      <th>8</th>\n",
       "      <td>1221880371773673474</td>\n",
       "      <td>Neutral</td>\n",
       "      <td>مفيش الكلام الزمن</td>\n",
       "    </tr>\n",
       "    <tr>\n",
       "      <th>9</th>\n",
       "      <td>1226410076623245313</td>\n",
       "      <td>Neutral</td>\n",
       "      <td>عندي مشكله تبي اجدد اقامه عامل حاولت اتواصل يف...</td>\n",
       "    </tr>\n",
       "    <tr>\n",
       "      <th>10</th>\n",
       "      <td>1221884254025482240</td>\n",
       "      <td>Negative</td>\n",
       "      <td>المخلوق ينتمي الي المجتمع الشيطاني خير</td>\n",
       "    </tr>\n",
       "    <tr>\n",
       "      <th>11</th>\n",
       "      <td>1221880838129881090</td>\n",
       "      <td>Positive</td>\n",
       "      <td>بكون عايزه البسها فوشي وانا خارجه😂😂</td>\n",
       "    </tr>\n",
       "    <tr>\n",
       "      <th>12</th>\n",
       "      <td>1221882386792747008</td>\n",
       "      <td>Neutral</td>\n",
       "      <td>الرءاسه الفلسطينيه تدعو السفراء العرب والمسلمي...</td>\n",
       "    </tr>\n",
       "    <tr>\n",
       "      <th>13</th>\n",
       "      <td>1221882659066064896</td>\n",
       "      <td>Neutral</td>\n",
       "      <td>التجنيس يضر اهل السنه سوريا تتغير التركيبه الس...</td>\n",
       "    </tr>\n",
       "    <tr>\n",
       "      <th>14</th>\n",
       "      <td>1221884473555456000</td>\n",
       "      <td>Negative</td>\n",
       "      <td>ادور لعيني النوم كانه سلف بارحه الاولي انا اود...</td>\n",
       "    </tr>\n",
       "    <tr>\n",
       "      <th>15</th>\n",
       "      <td>1221881370034823169</td>\n",
       "      <td>Positive</td>\n",
       "      <td>لاول مره افرح بدرجه الكليه القمر اللي انا الحم...</td>\n",
       "    </tr>\n",
       "    <tr>\n",
       "      <th>16</th>\n",
       "      <td>1221884599611072512</td>\n",
       "      <td>Neutral</td>\n",
       "      <td>تبحث عني شخص اخر</td>\n",
       "    </tr>\n",
       "    <tr>\n",
       "      <th>17</th>\n",
       "      <td>1221883147509551104</td>\n",
       "      <td>Neutral</td>\n",
       "      <td>املكه الحياه كرامتي وكلمتي ولن اخسرهم امام شخص...</td>\n",
       "    </tr>\n",
       "    <tr>\n",
       "      <th>18</th>\n",
       "      <td>1221883899988541442</td>\n",
       "      <td>Neutral</td>\n",
       "      <td>كان نصيب شيء سيقلب الله الموازين تحصل</td>\n",
       "    </tr>\n",
       "    <tr>\n",
       "      <th>19</th>\n",
       "      <td>1221881299369103361</td>\n",
       "      <td>Neutral</td>\n",
       "      <td>المءكد الوزيز معمر العرياني والمءكد انهم بيدخل...</td>\n",
       "    </tr>\n",
       "  </tbody>\n",
       "</table>\n",
       "</div>"
      ],
      "text/plain": [
       "               Tweet_id sentiment  \\\n",
       "0   1221875106206638080  Positive   \n",
       "1   1221884257490042887   Neutral   \n",
       "2   1226422627436310528  Positive   \n",
       "3   1221880820815798277  Positive   \n",
       "4   1221884400377499651   Neutral   \n",
       "5   1221881406168731649   Neutral   \n",
       "6   1221882066561830912  Positive   \n",
       "7   1221882047691657217   Neutral   \n",
       "8   1221880371773673474   Neutral   \n",
       "9   1226410076623245313   Neutral   \n",
       "10  1221884254025482240  Negative   \n",
       "11  1221880838129881090  Positive   \n",
       "12  1221882386792747008   Neutral   \n",
       "13  1221882659066064896   Neutral   \n",
       "14  1221884473555456000  Negative   \n",
       "15  1221881370034823169  Positive   \n",
       "16  1221884599611072512   Neutral   \n",
       "17  1221883147509551104   Neutral   \n",
       "18  1221883899988541442   Neutral   \n",
       "19  1221881299369103361   Neutral   \n",
       "\n",
       "                                                 text  \n",
       "0   والله حسب الارقام سيكون مخيب للامال الاهلي قده...  \n",
       "1   الزعل بيغير ملامحك بيغير نظره العين بيغير شكلك...  \n",
       "2   الحب الحقيقي اقتسام نفسك شخص اخر اقرب اليك نفس...  \n",
       "3                                         النهضه فتيل  \n",
       "4              حبا ايران بقدر ماهو نكايه بترامب وحزبه  \n",
       "5   ابي اعرف الحاكم العربي المسلم اشلون ينام مايخا...  \n",
       "6   ثقي قلبا وقالبا معاك وفخورين فيك وين مارحتي ور...  \n",
       "7   الخطاب تبع سليم سعاده حطت عالتويتر قال قامو هج...  \n",
       "8                                   مفيش الكلام الزمن  \n",
       "9   عندي مشكله تبي اجدد اقامه عامل حاولت اتواصل يف...  \n",
       "10             المخلوق ينتمي الي المجتمع الشيطاني خير  \n",
       "11                بكون عايزه البسها فوشي وانا خارجه😂😂  \n",
       "12  الرءاسه الفلسطينيه تدعو السفراء العرب والمسلمي...  \n",
       "13  التجنيس يضر اهل السنه سوريا تتغير التركيبه الس...  \n",
       "14  ادور لعيني النوم كانه سلف بارحه الاولي انا اود...  \n",
       "15  لاول مره افرح بدرجه الكليه القمر اللي انا الحم...  \n",
       "16                                   تبحث عني شخص اخر  \n",
       "17  املكه الحياه كرامتي وكلمتي ولن اخسرهم امام شخص...  \n",
       "18              كان نصيب شيء سيقلب الله الموازين تحصل  \n",
       "19  المءكد الوزيز معمر العرياني والمءكد انهم بيدخل...  "
      ]
     },
     "execution_count": 18,
     "metadata": {},
     "output_type": "execute_result"
    }
   ],
   "source": [
    "dataset1.head(20)"
   ]
  },
  {
   "cell_type": "code",
   "execution_count": 19,
   "metadata": {},
   "outputs": [],
   "source": [
    "dataset1.reset_index(drop=True, inplace=True)"
   ]
  },
  {
   "cell_type": "code",
   "execution_count": 20,
   "metadata": {},
   "outputs": [],
   "source": [
    "tweet2 = dataset1.copy()"
   ]
  },
  {
   "cell_type": "code",
   "execution_count": 21,
   "metadata": {},
   "outputs": [],
   "source": [
    "dataset1 = select_dataset(3333)"
   ]
  },
  {
   "cell_type": "code",
   "execution_count": 22,
   "metadata": {},
   "outputs": [
    {
     "name": "stdout",
     "output_type": "stream",
     "text": [
      "(9999, 3)\n",
      "Words Count in each class\n",
      "sentiment\n",
      "Negative    37359\n",
      "Neutral     36869\n",
      "Positive    34148\n",
      "dtype: int64\n"
     ]
    }
   ],
   "source": [
    "print(dataset1.shape)\n",
    "word_counts(dataset1)"
   ]
  },
  {
   "cell_type": "code",
   "execution_count": 23,
   "metadata": {},
   "outputs": [],
   "source": [
    "from sklearn.model_selection import train_test_split\n",
    "from sklearn.metrics import plot_confusion_matrix\n",
    "from sklearn.metrics import confusion_matrix, accuracy_score\n",
    "from sklearn.metrics import classification_report\n",
    "\n",
    "import time\n",
    "\n",
    "def extract(df, extractor, extractor_params):\n",
    "  \"\"\"Apply the given feature extractor on the dataset\"\"\"\n",
    "  cv = extractor(**extractor_params)\n",
    "  X = cv.fit_transform(df.text.values).toarray()\n",
    "  y = df.sentiment.values\n",
    "  return X, y\n",
    "\n",
    "def experiment(X, y,\n",
    "               classifier, classifier_params,\n",
    "               test_size=0.2,\n",
    "               show_result=True):\n",
    "  \"\"\"Train and test the classifier\"\"\"\n",
    "  X_train, X_test, y_train, y_test = train_test_split(X, y, \n",
    "                                                      test_size=test_size, \n",
    "                                                      random_state=RANDOM_STATE, \n",
    "                                                      stratify=y)\n",
    "\n",
    "  cls = classifier(**classifier_params)\n",
    "  cls.fit(X_train, y_train)\n",
    "\n",
    "  y_train_pred = cls.predict(X_train)\n",
    "  train_acc = accuracy_score(y_train, y_train_pred)\n",
    "\n",
    "  y_test_pred = cls.predict(X_test)\n",
    "  test_acc = accuracy_score(y_test, y_test_pred)\n",
    "\n",
    "  if show_result:\n",
    "    print(\"Number of features:\", len(X[0]))\n",
    "    print()\n",
    "\n",
    "    print(\"Training Accuracy:\", train_acc)\n",
    "    print(classification_report(y_train, y_train_pred))\n",
    "    print()\n",
    "\n",
    "    print(\"Testing Accuracy:\", test_acc)\n",
    "    print(classification_report(y_test, y_test_pred))\n",
    "    print()\n",
    "\n",
    "  return train_acc, test_acc\n",
    "\n",
    "def plot_accuracies(params, train_accuracies, test_accuracies, running_times, title, xlabel):\n",
    "\n",
    "  fig, ax1 = plt.subplots()\n",
    "  \n",
    "  color='tab:orange'\n",
    "  ax1.set_xlabel(xlabel, color=color)\n",
    "  ax1.set_ylabel(\"Accuracy (%)\", color=color)\n",
    "  ax1.plot(params, train_accuracies, 'x', label=\"Training Accuracy\", color=color)\n",
    "  ax1.plot(params, test_accuracies, 'o-', label=\"Test Accuracy\", color=color)\n",
    "  ax1.tick_params(axis='y', labelcolor=color)\n",
    "  ax1.legend(loc='upper center', bbox_to_anchor=(0.5, -0.2), ncol=2)\n",
    "\n",
    "  color='tab:blue'\n",
    "  ax2 = ax1.twinx()\n",
    "  ax2.set_ylabel(\"Running Time (s)\", color=color)\n",
    "  ax2.plot(params, running_times, color=color)\n",
    "  ax2.tick_params(axis='y', labelcolor=color)\n",
    "\n",
    "  fig.tight_layout()\n",
    "  plt.title(title)\n",
    "  plt.show()\n",
    "\n",
    "def run_experiments(ds, title, classifier, classifier_params,\n",
    "                    param_name, param_values, extractor_params={}):\n",
    "  \"\"\"Run the experiment with different values of a parameter\"\"\"\n",
    "\n",
    "  train_accuracies = []\n",
    "  test_accuracies = []\n",
    "  running_times = []\n",
    "  \n",
    "  best_accuracy = 0\n",
    "  best_param = None\n",
    "\n",
    "  print(classifier.__name__, \"Classifier:\", classifier_params)\n",
    "  print(\"Feature Extractions:\", extractor_params)\n",
    "  print()\n",
    "\n",
    "  print(f\"{param_name}\\tTraining Acc\\tTest Acc (%)\\tRunning Time (s)\")\n",
    "\n",
    "  for value in param_values:\n",
    "    start_time = time.time()\n",
    "\n",
    "    extractor_params[param_name] = value\n",
    "    X, y = extract(ds, TfidfVectorizer, extractor_params)\n",
    "\n",
    "    train_acc, test_acc = experiment(X, y, classifier, classifier_params, show_result=False)\n",
    "    train_acc = train_acc * 100 # percentage\n",
    "    test_acc = test_acc * 100   # percentage\n",
    "\n",
    "    running_time = (time.time() - start_time)\n",
    "    print(f\"{value}\\t{train_acc:8.3f}\\t{test_acc:8.1f}\\t{running_time:4.2f}\")\n",
    "\n",
    "    train_accuracies.append(train_acc)\n",
    "    test_accuracies.append(test_acc)\n",
    "    running_times.append(running_time)\n",
    "\n",
    "    if test_acc > best_accuracy:\n",
    "      best_accuracy = test_acc\n",
    "      best_param = value\n",
    "\n",
    "  print()\n",
    "  print(f\"Highest Accuracy {best_accuracy:.1f} with {param_name}={best_param}\")\n",
    "\n",
    "  plot_accuracies(param_values,\n",
    "                  train_accuracies, test_accuracies, running_times,\n",
    "                  title, param_name)\n",
    "  \n",
    "  return best_param"
   ]
  },
  {
   "cell_type": "markdown",
   "metadata": {},
   "source": [
    "## NB"
   ]
  },
  {
   "cell_type": "code",
   "execution_count": 66,
   "metadata": {},
   "outputs": [],
   "source": [
    "from sklearn.feature_extraction.text import TfidfVectorizer\n",
    "from sklearn.naive_bayes import MultinomialNB\n",
    "\n",
    "def nb_experiment(ds, title, param_name, param_values, extractor_params={}):\n",
    "    return run_experiments(ds, title, MultinomialNB, {}, \n",
    "                         param_name, param_values, extractor_params)"
   ]
  },
  {
   "cell_type": "code",
   "execution_count": 67,
   "metadata": {},
   "outputs": [
    {
     "name": "stdout",
     "output_type": "stream",
     "text": [
      "Number of features: 32377\n",
      "\n",
      "Training Accuracy: 0.9293661707713464\n",
      "              precision    recall  f1-score   support\n",
      "\n",
      "    Negative       0.93      0.94      0.93      2666\n",
      "     Neutral       0.94      0.89      0.92      2666\n",
      "    Positive       0.92      0.95      0.94      2667\n",
      "\n",
      "    accuracy                           0.93      7999\n",
      "   macro avg       0.93      0.93      0.93      7999\n",
      "weighted avg       0.93      0.93      0.93      7999\n",
      "\n",
      "\n",
      "Testing Accuracy: 0.611\n",
      "              precision    recall  f1-score   support\n",
      "\n",
      "    Negative       0.60      0.64      0.62       667\n",
      "     Neutral       0.64      0.52      0.57       667\n",
      "    Positive       0.60      0.68      0.64       666\n",
      "\n",
      "    accuracy                           0.61      2000\n",
      "   macro avg       0.61      0.61      0.61      2000\n",
      "weighted avg       0.61      0.61      0.61      2000\n",
      "\n",
      "\n"
     ]
    },
    {
     "data": {
      "text/plain": [
       "(0.9293661707713464, 0.611)"
      ]
     },
     "execution_count": 67,
     "metadata": {},
     "output_type": "execute_result"
    }
   ],
   "source": [
    "ds = dataset1\n",
    "\n",
    "X, y = extract(ds, TfidfVectorizer, {})\n",
    "experiment(X, y, MultinomialNB, {})"
   ]
  },
  {
   "cell_type": "markdown",
   "metadata": {},
   "source": [
    "#### Unigrams\n",
    "\n",
    "* First experiment with `min_df` from `[1..10]`.\n",
    "* Pick `min_df` results the best accuracy.\n",
    "* Experiment with `max_df` from `[0.5, 0.6, .. 1.0]`"
   ]
  },
  {
   "cell_type": "code",
   "execution_count": 68,
   "metadata": {},
   "outputs": [
    {
     "name": "stdout",
     "output_type": "stream",
     "text": [
      "MultinomialNB Classifier: {}\n",
      "Feature Extractions: {}\n",
      "\n",
      "min_df\tTraining Acc\tTest Acc (%)\tRunning Time (s)\n",
      "1\t  92.937\t    61.1\t14.30\n",
      "2\t  85.561\t    60.6\t1.83\n",
      "3\t  81.048\t    61.0\t1.03\n",
      "4\t  78.172\t    60.0\t0.79\n",
      "5\t  75.409\t    60.0\t0.61\n",
      "6\t  73.572\t    59.7\t0.59\n",
      "7\t  72.247\t    59.2\t0.50\n",
      "8\t  71.046\t    59.2\t0.46\n",
      "9\t  69.771\t    58.6\t0.43\n",
      "10\t  68.784\t    58.0\t0.39\n",
      "\n",
      "Highest Accuracy 61.1 with min_df=1\n"
     ]
    },
    {
     "data": {
      "image/png": "[encoded data removed]",
      "text/plain": [
       "<Figure size 432x288 with 2 Axes>"
      ]
     },
     "metadata": {},
     "output_type": "display_data"
    },
    {
     "data": {
      "text/plain": [
       "1"
      ]
     },
     "execution_count": 68,
     "metadata": {},
     "output_type": "execute_result"
    }
   ],
   "source": [
    "nb_experiment(dataset1, \"NB Classifier - Dataset1 - Unigrams\", \n",
    "              'min_df', list(range(1,11)))"
   ]
  },
  {
   "cell_type": "markdown",
   "metadata": {},
   "source": [
    "- min_df =  1"
   ]
  },
  {
   "cell_type": "code",
   "execution_count": 72,
   "metadata": {},
   "outputs": [
    {
     "name": "stdout",
     "output_type": "stream",
     "text": [
      "MultinomialNB Classifier: {}\n",
      "Feature Extractions: {'min_df': 1}\n",
      "\n",
      "max_df\tTraining Acc\tTest Acc (%)\tRunning Time (s)\n",
      "0.5\t  92.937\t    61.1\t4.59\n",
      "0.6\t  92.937\t    61.1\t4.64\n",
      "0.7\t  92.937\t    61.1\t4.49\n",
      "0.8\t  92.937\t    61.1\t4.33\n",
      "0.9\t  92.937\t    61.1\t4.64\n",
      "1.0\t  92.937\t    61.1\t4.55\n",
      "\n",
      "Highest Accuracy 61.1 with max_df=0.5\n"
     ]
    },
    {
     "data": {
      "image/png": "[encoded data removed]",
      "text/plain": [
       "<Figure size 432x288 with 2 Axes>"
      ]
     },
     "metadata": {},
     "output_type": "display_data"
    },
    {
     "data": {
      "text/plain": [
       "0.5"
      ]
     },
     "execution_count": 72,
     "metadata": {},
     "output_type": "execute_result"
    }
   ],
   "source": [
    "nb_experiment(dataset1, \"NB Classifier - Dataset1 - Unigrams - min_df=3\", \n",
    "              'max_df', [0.5, 0.6, 0.7, 0.8, 0.9, 1.0],\n",
    "              {'min_df': 1})"
   ]
  },
  {
   "cell_type": "markdown",
   "metadata": {},
   "source": [
    "#### Unigrams and bigrams\n",
    "\n",
    "* First experiment with `min_df` from `[2..10]`.\n",
    "* Pick `min_df` results the best accuracy.\n",
    "* Experiment with `max_df` from `[0.5, 0.6, .. 1.0]`"
   ]
  },
  {
   "cell_type": "code",
   "execution_count": 79,
   "metadata": {},
   "outputs": [
    {
     "name": "stdout",
     "output_type": "stream",
     "text": [
      "MultinomialNB Classifier: {}\n",
      "Feature Extractions: {'ngram_range': (1, 2)}\n",
      "\n",
      "min_df\tTraining Acc\tTest Acc (%)\tRunning Time (s)\n",
      "2\t  87.086\t    61.4\t2.20\n",
      "3\t  81.548\t    61.7\t1.47\n",
      "4\t  78.522\t    61.1\t1.07\n",
      "5\t  75.672\t    60.5\t0.89\n",
      "6\t  73.559\t    59.8\t0.81\n",
      "7\t  72.022\t    59.8\t0.77\n",
      "8\t  70.921\t    59.6\t0.71\n",
      "9\t  69.721\t    58.8\t0.64\n",
      "\n",
      "Highest Accuracy 61.7 with min_df=3\n"
     ]
    },
    {
     "data": {
      "image/png": "[encoded data removed]",
      "text/plain": [
       "<Figure size 432x288 with 2 Axes>"
      ]
     },
     "metadata": {},
     "output_type": "display_data"
    },
    {
     "data": {
      "text/plain": [
       "3"
      ]
     },
     "execution_count": 79,
     "metadata": {},
     "output_type": "execute_result"
    }
   ],
   "source": [
    "nb_experiment(dataset1, \"NB Classifier - Dataset1 - Unigrams and bigrams\", \n",
    "              'min_df', list(range(2,10)),\n",
    "              {'ngram_range': (1,2)})"
   ]
  },
  {
   "cell_type": "markdown",
   "metadata": {},
   "source": [
    "- min_df= 3"
   ]
  },
  {
   "cell_type": "code",
   "execution_count": 80,
   "metadata": {},
   "outputs": [
    {
     "name": "stdout",
     "output_type": "stream",
     "text": [
      "MultinomialNB Classifier: {}\n",
      "Feature Extractions: {'ngram_range': (1, 2), 'min_df': 3}\n",
      "\n",
      "max_df\tTraining Acc\tTest Acc (%)\tRunning Time (s)\n",
      "0.5\t  81.548\t    61.7\t1.56\n",
      "0.6\t  81.548\t    61.7\t1.66\n",
      "0.7\t  81.548\t    61.7\t1.45\n",
      "0.8\t  81.548\t    61.7\t1.66\n",
      "0.9\t  81.548\t    61.7\t1.48\n",
      "1.0\t  81.548\t    61.7\t1.41\n",
      "\n",
      "Highest Accuracy 61.7 with max_df=0.5\n"
     ]
    },
    {
     "data": {
      "image/png": "[encoded data removed]",
      "text/plain": [
       "<Figure size 432x288 with 2 Axes>"
      ]
     },
     "metadata": {},
     "output_type": "display_data"
    },
    {
     "data": {
      "text/plain": [
       "0.5"
      ]
     },
     "execution_count": 80,
     "metadata": {},
     "output_type": "execute_result"
    }
   ],
   "source": [
    "nb_experiment(dataset1, \"NB Classifier - Dataset1 - Unigrams and bigrams - min_df=5\", \n",
    "              'max_df', [0.5, 0.6, 0.7, 0.8, 0.9, 1.0],\n",
    "              {'ngram_range': (1,2), 'min_df': 3})"
   ]
  },
  {
   "cell_type": "markdown",
   "metadata": {},
   "source": [
    "## LogisticRegression"
   ]
  },
  {
   "cell_type": "code",
   "execution_count": 81,
   "metadata": {},
   "outputs": [],
   "source": [
    "from sklearn.linear_model import LogisticRegression\n",
    "\n",
    "LogisticRegression_params = {\n",
    "    'random_state': RANDOM_STATE,\n",
    "    'solver': 'lbfgs',\n",
    "    'max_iter': 1000\n",
    "}\n",
    "\n",
    "def lr_experiment(ds, title, param_name, param_values, extractor_params={}):\n",
    "    return run_experiments(ds, title,\n",
    "                         LogisticRegression, LogisticRegression_params,\n",
    "                         param_name, param_values, extractor_params)"
   ]
  },
  {
   "cell_type": "code",
   "execution_count": 82,
   "metadata": {},
   "outputs": [
    {
     "name": "stdout",
     "output_type": "stream",
     "text": [
      "Number of features: 32377\n",
      "\n",
      "Training Accuracy: 0.9399924990623828\n",
      "              precision    recall  f1-score   support\n",
      "\n",
      "    Negative       0.93      0.95      0.94      2666\n",
      "     Neutral       0.95      0.91      0.93      2666\n",
      "    Positive       0.93      0.96      0.95      2667\n",
      "\n",
      "    accuracy                           0.94      7999\n",
      "   macro avg       0.94      0.94      0.94      7999\n",
      "weighted avg       0.94      0.94      0.94      7999\n",
      "\n",
      "\n",
      "Testing Accuracy: 0.594\n",
      "              precision    recall  f1-score   support\n",
      "\n",
      "    Negative       0.58      0.62      0.60       667\n",
      "     Neutral       0.60      0.52      0.56       667\n",
      "    Positive       0.61      0.64      0.62       666\n",
      "\n",
      "    accuracy                           0.59      2000\n",
      "   macro avg       0.59      0.59      0.59      2000\n",
      "weighted avg       0.59      0.59      0.59      2000\n",
      "\n",
      "\n"
     ]
    },
    {
     "data": {
      "text/plain": [
       "(0.9399924990623828, 0.594)"
      ]
     },
     "execution_count": 82,
     "metadata": {},
     "output_type": "execute_result"
    }
   ],
   "source": [
    "ds = dataset1\n",
    "\n",
    "X, y = extract(ds, TfidfVectorizer, {})\n",
    "experiment(X, y, LogisticRegression, LogisticRegression_params)"
   ]
  },
  {
   "cell_type": "markdown",
   "metadata": {},
   "source": [
    "#### Unigrams\n",
    "\n",
    "* First experiment with `min_df` from `[1..10]`.\n",
    "* Pick `min_df` results the best accuracy.\n",
    "* Experiment with `max_df` from `[0.5, 0.6, .. 1.0]`"
   ]
  },
  {
   "cell_type": "code",
   "execution_count": 83,
   "metadata": {},
   "outputs": [
    {
     "name": "stdout",
     "output_type": "stream",
     "text": [
      "LogisticRegression Classifier: {'random_state': 33, 'solver': 'lbfgs', 'max_iter': 1000}\n",
      "Feature Extractions: {}\n",
      "\n",
      "min_df\tTraining Acc\tTest Acc (%)\tRunning Time (s)\n",
      "1\t  93.999\t    59.4\t61.23\n",
      "2\t  88.799\t    59.2\t33.18\n",
      "3\t  85.336\t    59.7\t20.94\n",
      "4\t  82.573\t    59.5\t13.47\n",
      "5\t  79.835\t    59.5\t10.80\n",
      "6\t  77.672\t    58.3\t8.01\n",
      "7\t  76.010\t    58.0\t6.50\n",
      "8\t  74.534\t    57.8\t5.15\n",
      "9\t  73.097\t    57.1\t5.75\n",
      "10\t  71.796\t    57.0\t4.64\n",
      "\n",
      "Highest Accuracy 59.7 with min_df=3\n"
     ]
    },
    {
     "data": {
      "image/png": "[encoded data removed]",
      "text/plain": [
       "<Figure size 432x288 with 2 Axes>"
      ]
     },
     "metadata": {},
     "output_type": "display_data"
    },
    {
     "data": {
      "text/plain": [
       "3"
      ]
     },
     "execution_count": 83,
     "metadata": {},
     "output_type": "execute_result"
    }
   ],
   "source": [
    "lr_experiment(dataset1, \"LR Classifier - Dataset1 - Unigrams\", \n",
    "              'min_df', list(range(1, 11)))"
   ]
  },
  {
   "cell_type": "markdown",
   "metadata": {},
   "source": [
    "- min_df = 3"
   ]
  },
  {
   "cell_type": "code",
   "execution_count": 84,
   "metadata": {},
   "outputs": [
    {
     "name": "stdout",
     "output_type": "stream",
     "text": [
      "LogisticRegression Classifier: {'random_state': 33, 'solver': 'lbfgs', 'max_iter': 1000}\n",
      "Feature Extractions: {'min_df': 3}\n",
      "\n",
      "max_df\tTraining Acc\tTest Acc (%)\tRunning Time (s)\n",
      "0.5\t  85.336\t    59.7\t22.08\n",
      "0.6\t  85.336\t    59.7\t23.99\n",
      "0.7\t  85.336\t    59.7\t22.78\n",
      "0.8\t  85.336\t    59.7\t20.76\n",
      "0.9\t  85.336\t    59.7\t19.64\n",
      "1.0\t  85.336\t    59.7\t19.25\n",
      "\n",
      "Highest Accuracy 59.7 with max_df=0.5\n"
     ]
    },
    {
     "data": {
      "image/png": "[encoded data removed]",
      "text/plain": [
       "<Figure size 432x288 with 2 Axes>"
      ]
     },
     "metadata": {},
     "output_type": "display_data"
    },
    {
     "data": {
      "text/plain": [
       "0.5"
      ]
     },
     "execution_count": 84,
     "metadata": {},
     "output_type": "execute_result"
    }
   ],
   "source": [
    "lr_experiment(dataset1, \"LR Classifier - Dataset1 - Unigrams, min_df=2\", \n",
    "              'max_df', [0.5, 0.6, 0.7, 0.8, 0.9, 1.0],\n",
    "              {'min_df': 3})"
   ]
  },
  {
   "cell_type": "markdown",
   "metadata": {},
   "source": [
    "#### Unigrams and bigrams\n",
    "\n",
    "* First experiment with `min_df` from `[1..10]`.\n",
    "* Pick `min_df` results the best accuracy.\n",
    "* Experiment with `max_df` from `[0.5, 0.6, .. 1.0]`"
   ]
  },
  {
   "cell_type": "code",
   "execution_count": 86,
   "metadata": {},
   "outputs": [
    {
     "name": "stdout",
     "output_type": "stream",
     "text": [
      "LogisticRegression Classifier: {'random_state': 33, 'solver': 'lbfgs', 'max_iter': 1000}\n",
      "Feature Extractions: {'ngram_range': (1, 2)}\n",
      "\n",
      "min_df\tTraining Acc\tTest Acc (%)\tRunning Time (s)\n",
      "2\t  90.274\t    60.6\t31.80\n",
      "3\t  86.311\t    59.9\t17.89\n",
      "4\t  83.760\t    60.1\t14.97\n",
      "5\t  80.760\t    59.2\t10.84\n",
      "6\t  78.360\t    58.2\t10.25\n",
      "7\t  76.560\t    58.1\t8.63\n",
      "8\t  75.059\t    58.2\t6.62\n",
      "9\t  73.697\t    57.3\t6.34\n",
      "10\t  72.284\t    57.6\t5.34\n",
      "\n",
      "Highest Accuracy 60.6 with min_df=2\n"
     ]
    },
    {
     "data": {
      "image/png": "[encoded data removed]",
      "text/plain": [
       "<Figure size 432x288 with 2 Axes>"
      ]
     },
     "metadata": {},
     "output_type": "display_data"
    },
    {
     "data": {
      "text/plain": [
       "2"
      ]
     },
     "execution_count": 86,
     "metadata": {},
     "output_type": "execute_result"
    }
   ],
   "source": [
    "lr_experiment(dataset1, \"LR Classifier - Dataset1 - Unigrams and bigrams\", \n",
    "              'min_df', list(range(2, 11)),\n",
    "              {'ngram_range': (1,2)})"
   ]
  },
  {
   "cell_type": "markdown",
   "metadata": {},
   "source": [
    "- min_df=2"
   ]
  },
  {
   "cell_type": "code",
   "execution_count": 87,
   "metadata": {},
   "outputs": [
    {
     "name": "stdout",
     "output_type": "stream",
     "text": [
      "LogisticRegression Classifier: {'random_state': 33, 'solver': 'lbfgs', 'max_iter': 1000}\n",
      "Feature Extractions: {'min_df': 2, 'ngram_range': (1, 2)}\n",
      "\n",
      "max_df\tTraining Acc\tTest Acc (%)\tRunning Time (s)\n",
      "0.5\t  90.274\t    60.6\t42.24\n",
      "0.6\t  90.274\t    60.6\t46.23\n",
      "0.7\t  90.274\t    60.6\t38.21\n",
      "0.8\t  90.274\t    60.6\t40.59\n",
      "0.9\t  90.274\t    60.6\t33.25\n",
      "1.0\t  90.274\t    60.6\t33.11\n",
      "\n",
      "Highest Accuracy 60.6 with max_df=0.5\n"
     ]
    },
    {
     "data": {
      "image/png": "[encoded data removed]",
      "text/plain": [
       "<Figure size 432x288 with 2 Axes>"
      ]
     },
     "metadata": {},
     "output_type": "display_data"
    },
    {
     "data": {
      "text/plain": [
       "0.5"
      ]
     },
     "execution_count": 87,
     "metadata": {},
     "output_type": "execute_result"
    }
   ],
   "source": [
    "lr_experiment(dataset1, \"LR Classifier - Dataset1 - Unigrams, min_df=3\", \n",
    "              'max_df', [0.5, 0.6, 0.7, 0.8, 0.9, 1.0],\n",
    "              {'min_df': 2, 'ngram_range': (1,2)})"
   ]
  },
  {
   "cell_type": "markdown",
   "metadata": {},
   "source": [
    "## SelectKBest\n",
    "\n",
    "The best accuracy so far is 61.7.3% which is achieved with:\n",
    "\n",
    "* NB classifier\n",
    "* TfidfVectorizer with unigrams and bigrams, `min_df=3` and `max_df=0.5`\n",
    "\n",
    "Now applying `SelectKBest` after TF-IDF features to seleck `k` best features."
   ]
  },
  {
   "cell_type": "code",
   "execution_count": 88,
   "metadata": {},
   "outputs": [],
   "source": [
    "from sklearn.feature_selection import SelectKBest\n",
    "from sklearn.feature_selection import chi2\n",
    "\n",
    "TfidfVectorizer_params = {\n",
    "    'ngram_range': (1,2), \n",
    "    'min_df': 3, \n",
    "    'max_df': 0.5\n",
    "}\n",
    "\n",
    "def kbest_experiment(ds, title, param_name, param_values, kbest_params={}):\n",
    "  train_accuracies = []\n",
    "  test_accuracies = []\n",
    "  running_times = []\n",
    "  \n",
    "  best_accuracy = 0\n",
    "  best_param = None\n",
    "\n",
    "  print(\"MultinomialNB Classifier:\")\n",
    "  print(\"SelectKBest:\", kbest_params)\n",
    "  print()\n",
    "\n",
    "  print(f\"{param_name}\\tTraining Acc\\tTest Acc (%)\\tRunning Time (s)\")\n",
    "\n",
    "  for value in param_values:\n",
    "    start_time = time.time()\n",
    "\n",
    "    X, y = extract(ds, TfidfVectorizer, TfidfVectorizer_params)\n",
    "    \n",
    "    kbest_params[param_name] = value\n",
    "    X = SelectKBest(**kbest_params).fit_transform(X, y)\n",
    "\n",
    "    train_acc, test_acc = experiment(X, y, MultinomialNB, {}, show_result=False)\n",
    "    train_acc = train_acc * 100 # percentage\n",
    "    test_acc = test_acc * 100   # percentage\n",
    "\n",
    "    running_time = (time.time() - start_time)\n",
    "    print(f\"{value}\\t{train_acc:8.3f}\\t{test_acc:8.1f}\\t{running_time:4.2f}\")\n",
    "\n",
    "    if test_acc > best_accuracy:\n",
    "      best_accuracy = test_acc\n",
    "      best_param = value\n",
    "\n",
    "    train_accuracies.append(train_acc)\n",
    "    test_accuracies.append(test_acc)\n",
    "    running_times.append(running_time)\n",
    "\n",
    "  print()\n",
    "  print(f\"Highest Accuracy {best_accuracy:.1f} with {param_name}={best_param}\")\n",
    "  print()\n",
    "  \n",
    "  plot_accuracies(param_values,\n",
    "                  train_accuracies, test_accuracies, running_times,\n",
    "                  title, param_name) "
   ]
  },
  {
   "cell_type": "code",
   "execution_count": 89,
   "metadata": {},
   "outputs": [
    {
     "name": "stdout",
     "output_type": "stream",
     "text": [
      "MultinomialNB Classifier:\n",
      "SelectKBest: {'score_func': <function chi2 at 0x0000013E1325BA60>}\n",
      "\n",
      "k\tTraining Acc\tTest Acc (%)\tRunning Time (s)\n",
      "500\t  59.832\t    56.9\t1.50\n",
      "1000\t  65.233\t    61.8\t1.68\n",
      "1500\t  68.409\t    64.4\t1.89\n",
      "2000\t  70.884\t    66.3\t2.16\n",
      "2500\t  72.684\t    66.9\t2.32\n",
      "3000\t  73.909\t    67.9\t2.49\n",
      "3500\t  75.284\t    67.8\t3.15\n",
      "4000\t  76.435\t    68.1\t2.82\n",
      "4500\t  77.710\t    67.5\t3.13\n",
      "5000\t  78.785\t    67.0\t3.30\n",
      "5500\t  79.485\t    67.0\t3.40\n",
      "6000\t  79.785\t    66.6\t3.58\n",
      "6500\t  80.323\t    66.1\t3.85\n",
      "7000\t  80.698\t    65.1\t4.25\n",
      "7500\t  81.185\t    63.5\t4.32\n",
      "8000\t  81.485\t    62.2\t5.38\n",
      "\n",
      "Highest Accuracy 68.1 with k=4000\n",
      "\n"
     ]
    },
    {
     "data": {
      "image/png": "[encoded data removed]",
      "text/plain": [
       "<Figure size 432x288 with 2 Axes>"
      ]
     },
     "metadata": {},
     "output_type": "display_data"
    }
   ],
   "source": [
    "from sklearn.feature_selection import chi2\n",
    "\n",
    "kbest_experiment(dataset1, \"NB Classifier - Dataset1 - SelectKBest(score_func=chi2)\",\n",
    "                 'k', list(range(500, 8001, 500)),\n",
    "                 {'score_func': chi2 })"
   ]
  },
  {
   "cell_type": "code",
   "execution_count": 90,
   "metadata": {},
   "outputs": [
    {
     "name": "stdout",
     "output_type": "stream",
     "text": [
      "MultinomialNB Classifier:\n",
      "SelectKBest: {'score_func': <function f_classif at 0x0000013E1325B9D8>}\n",
      "\n",
      "k\tTraining Acc\tTest Acc (%)\tRunning Time (s)\n",
      "500\t  59.857\t    56.3\t2.70\n",
      "1000\t  64.883\t    61.5\t2.98\n",
      "1500\t  67.296\t    62.9\t2.84\n",
      "2000\t  69.271\t    64.5\t3.04\n",
      "2500\t  71.034\t    66.8\t3.23\n",
      "3000\t  73.372\t    67.0\t3.12\n",
      "3500\t  74.459\t    67.8\t4.48\n",
      "4000\t  75.522\t    68.0\t3.52\n",
      "4500\t  76.947\t    67.7\t3.69\n",
      "5000\t  78.210\t    67.3\t3.92\n",
      "5500\t  78.997\t    67.0\t4.79\n",
      "6000\t  79.472\t    66.8\t5.74\n",
      "6500\t  79.985\t    66.1\t5.54\n",
      "7000\t  80.760\t    65.1\t5.05\n",
      "7500\t  81.110\t    63.6\t5.96\n",
      "8000\t  81.473\t    62.2\t5.21\n",
      "\n",
      "Highest Accuracy 68.0 with k=4000\n",
      "\n"
     ]
    },
    {
     "data": {
      "image/png": "[encoded data removed]",
      "text/plain": [
       "<Figure size 432x288 with 2 Axes>"
      ]
     },
     "metadata": {},
     "output_type": "display_data"
    }
   ],
   "source": [
    "from sklearn.feature_selection import f_classif\n",
    "\n",
    "kbest_experiment(dataset1, \"NB Classifier - Dataset1 - SelectKBest(score_func=f_classif)\",\n",
    "                 'k', list(range(500, 8001, 500)),\n",
    "                 {'score_func': f_classif })"
   ]
  },
  {
   "cell_type": "markdown",
   "metadata": {},
   "source": [
    "- Highest Accuracy 68% with k=4000"
   ]
  },
  {
   "cell_type": "code",
   "execution_count": 107,
   "metadata": {},
   "outputs": [
    {
     "name": "stderr",
     "output_type": "stream",
     "text": [
      "C:\\Users\\walsa\\Anaconda3\\lib\\site-packages\\sklearn\\utils\\validation.py:70: FutureWarning: Pass input={'ngram_range': (1, 2), 'min_df': 3, 'max_df': 0.5} as keyword args. From version 0.25 passing these as positional arguments will result in an error\n",
      "  FutureWarning)\n"
     ]
    }
   ],
   "source": [
    "\n",
    "#kbest_params={}\n",
    "TfidfVectorizer_params = {\n",
    "    'ngram_range': (1,2), \n",
    "    'min_df': 3, \n",
    "    'max_df': 0.5\n",
    "}\n",
    "cv = TfidfVectorizer(TfidfVectorizer_params)\n",
    "X = cv.fit_transform(dataset1.text.values).toarray()\n",
    "y = dataset1.sentiment.values\n",
    "\n",
    "#X, y = extract(dataset3, TfidfVectorizer, TfidfVectorizer_params)\n",
    "  \n",
    "\n",
    "selector = SelectKBest(chi2, k=4000)\n",
    "X = selector.fit_transform(X, y)"
   ]
  },
  {
   "cell_type": "code",
   "execution_count": 108,
   "metadata": {},
   "outputs": [],
   "source": [
    "\n",
    "X_train, X_test, y_train, y_test = train_test_split(X, y, \n",
    "                                                      test_size=0.2, \n",
    "                                                      random_state=22, \n",
    "                                                      stratify=y)\n",
    "\n",
    "cls = MultinomialNB()\n",
    "cls.fit(X_train, y_train)\n",
    "\n",
    "y_train_pred = cls.predict(X_train)\n",
    "train_acc = accuracy_score(y_train, y_train_pred)\n",
    "\n",
    "y_test_pred = cls.predict(X_test)\n",
    "test_acc = accuracy_score(y_test, y_test_pred)\n"
   ]
  },
  {
   "cell_type": "code",
   "execution_count": 110,
   "metadata": {},
   "outputs": [
    {
     "data": {
      "text/plain": [
       "0.7683460432554069"
      ]
     },
     "execution_count": 110,
     "metadata": {},
     "output_type": "execute_result"
    }
   ],
   "source": [
    "train_acc"
   ]
  },
  {
   "cell_type": "code",
   "execution_count": 109,
   "metadata": {},
   "outputs": [
    {
     "data": {
      "text/plain": [
       "0.689"
      ]
     },
     "execution_count": 109,
     "metadata": {},
     "output_type": "execute_result"
    }
   ],
   "source": [
    "test_acc"
   ]
  },
  {
   "cell_type": "code",
   "execution_count": 111,
   "metadata": {},
   "outputs": [],
   "source": [
    "tf1_new = TfidfVectorizer(vocabulary = cv.vocabulary_)"
   ]
  },
  {
   "cell_type": "code",
   "execution_count": 112,
   "metadata": {},
   "outputs": [],
   "source": [
    "xx_new = tweet2['text'].values"
   ]
  },
  {
   "cell_type": "code",
   "execution_count": 113,
   "metadata": {},
   "outputs": [],
   "source": [
    "X_tf1 = tf1_new.fit_transform(xx_new)"
   ]
  },
  {
   "cell_type": "code",
   "execution_count": 114,
   "metadata": {},
   "outputs": [],
   "source": [
    "X_test_clean = selector.transform(X_tf1)\n"
   ]
  },
  {
   "cell_type": "code",
   "execution_count": 116,
   "metadata": {},
   "outputs": [
    {
     "data": {
      "text/plain": [
       "array(['Positive', 'Positive', 'Positive', ..., 'Neutral', 'Negative',\n",
       "       'Neutral'], dtype='<U8')"
      ]
     },
     "execution_count": 116,
     "metadata": {},
     "output_type": "execute_result"
    }
   ],
   "source": [
    "pred = cls.predict(X_test_clean)\n",
    "pred"
   ]
  },
  {
   "cell_type": "code",
   "execution_count": 117,
   "metadata": {},
   "outputs": [
    {
     "data": {
      "text/plain": [
       "32001"
      ]
     },
     "execution_count": 117,
     "metadata": {},
     "output_type": "execute_result"
    }
   ],
   "source": [
    "len(pred)"
   ]
  },
  {
   "cell_type": "code",
   "execution_count": 121,
   "metadata": {},
   "outputs": [
    {
     "data": {
      "text/plain": [
       "(32001, 3)"
      ]
     },
     "execution_count": 121,
     "metadata": {},
     "output_type": "execute_result"
    }
   ],
   "source": [
    "tweet2.shape"
   ]
  },
  {
   "cell_type": "code",
   "execution_count": 122,
   "metadata": {},
   "outputs": [
    {
     "name": "stdout",
     "output_type": "stream",
     "text": [
      "              precision    recall  f1-score   support\n",
      "\n",
      "    Negative       0.41      0.73      0.52      4806\n",
      "     Neutral       0.93      0.55      0.69     22275\n",
      "    Positive       0.38      0.79      0.51      4920\n",
      "\n",
      "    accuracy                           0.61     32001\n",
      "   macro avg       0.57      0.69      0.57     32001\n",
      "weighted avg       0.77      0.61      0.64     32001\n",
      "\n"
     ]
    }
   ],
   "source": [
    "from sklearn.metrics import classification_report\n",
    "print(classification_report(tweet2.sentiment, pred))"
   ]
  },
  {
   "cell_type": "markdown",
   "metadata": {},
   "source": [
    "## Neural Networks (Deep Learning)\n",
    "\n",
    "\n",
    "In this section, we applied a Deep Learning algorithm, by applied the following steps: \n",
    "- import a deep learning algorithm.\n",
    "- define the utilized layers\n",
    "- compile our model.\n",
    "- train our model\n",
    "- evaluate our model."
   ]
  },
  {
   "cell_type": "code",
   "execution_count": 27,
   "metadata": {},
   "outputs": [
    {
     "name": "stderr",
     "output_type": "stream",
     "text": [
      "Using TensorFlow backend.\n",
      "C:\\Users\\walsa\\Anaconda3\\lib\\site-packages\\tensorflow\\python\\framework\\dtypes.py:526: FutureWarning: Passing (type, 1) or '1type' as a synonym of type is deprecated; in a future version of numpy, it will be understood as (type, (1,)) / '(1,)type'.\n",
      "  _np_qint8 = np.dtype([(\"qint8\", np.int8, 1)])\n",
      "C:\\Users\\walsa\\Anaconda3\\lib\\site-packages\\tensorflow\\python\\framework\\dtypes.py:527: FutureWarning: Passing (type, 1) or '1type' as a synonym of type is deprecated; in a future version of numpy, it will be understood as (type, (1,)) / '(1,)type'.\n",
      "  _np_quint8 = np.dtype([(\"quint8\", np.uint8, 1)])\n",
      "C:\\Users\\walsa\\Anaconda3\\lib\\site-packages\\tensorflow\\python\\framework\\dtypes.py:528: FutureWarning: Passing (type, 1) or '1type' as a synonym of type is deprecated; in a future version of numpy, it will be understood as (type, (1,)) / '(1,)type'.\n",
      "  _np_qint16 = np.dtype([(\"qint16\", np.int16, 1)])\n",
      "C:\\Users\\walsa\\Anaconda3\\lib\\site-packages\\tensorflow\\python\\framework\\dtypes.py:529: FutureWarning: Passing (type, 1) or '1type' as a synonym of type is deprecated; in a future version of numpy, it will be understood as (type, (1,)) / '(1,)type'.\n",
      "  _np_quint16 = np.dtype([(\"quint16\", np.uint16, 1)])\n",
      "C:\\Users\\walsa\\Anaconda3\\lib\\site-packages\\tensorflow\\python\\framework\\dtypes.py:530: FutureWarning: Passing (type, 1) or '1type' as a synonym of type is deprecated; in a future version of numpy, it will be understood as (type, (1,)) / '(1,)type'.\n",
      "  _np_qint32 = np.dtype([(\"qint32\", np.int32, 1)])\n",
      "C:\\Users\\walsa\\Anaconda3\\lib\\site-packages\\tensorflow\\python\\framework\\dtypes.py:535: FutureWarning: Passing (type, 1) or '1type' as a synonym of type is deprecated; in a future version of numpy, it will be understood as (type, (1,)) / '(1,)type'.\n",
      "  np_resource = np.dtype([(\"resource\", np.ubyte, 1)])\n"
     ]
    }
   ],
   "source": [
    "from keras.models import Sequential\n",
    "from keras import layers\n",
    "from keras.preprocessing.text import Tokenizer\n",
    "from keras.preprocessing.sequence import pad_sequences\n",
    "from keras.wrappers.scikit_learn import KerasClassifier"
   ]
  },
  {
   "cell_type": "code",
   "execution_count": 32,
   "metadata": {},
   "outputs": [
    {
     "data": {
      "text/plain": [
       "2    3333\n",
       "1    3333\n",
       "0    3333\n",
       "Name: sentiment, dtype: int64"
      ]
     },
     "execution_count": 32,
     "metadata": {},
     "output_type": "execute_result"
    }
   ],
   "source": [
    "dataset1['sentiment'] = dataset1['sentiment'].astype('str').values\n",
    "dataset1['sentiment'] = dataset1['sentiment'].astype('category').values\n",
    "dataset1['sentiment'] = dataset1['sentiment'].cat.codes\n",
    "dataset1['sentiment'].value_counts()"
   ]
  },
  {
   "cell_type": "code",
   "execution_count": 33,
   "metadata": {},
   "outputs": [],
   "source": [
    "from sklearn.model_selection import train_test_split\n",
    "from sklearn.metrics import plot_confusion_matrix\n",
    "from sklearn.metrics import confusion_matrix, accuracy_score\n",
    "from sklearn.metrics import classification_report\n",
    "\n",
    "from sklearn.feature_extraction.text import TfidfVectorizer\n",
    "\n",
    "\n",
    "X = dataset1.text.values\n",
    "y = dataset1.sentiment.values\n",
    "X_train, X_test, y_train, y_test = train_test_split(X, y, \n",
    "                                                      test_size=0.2, \n",
    "                                                      random_state=33, \n",
    "                                                      stratify=y)\n",
    "\n",
    "\n",
    "vectorizer = TfidfVectorizer(stop_words=stopwords.words('arabic'))\n",
    "vectorizer.fit(X_train)\n",
    "\n",
    "X_train = vectorizer.transform(X_train)\n",
    "X_test  = vectorizer.transform(X_test)"
   ]
  },
  {
   "cell_type": "code",
   "execution_count": 34,
   "metadata": {},
   "outputs": [],
   "source": [
    "input_dim = X_train.shape[1]  # Number of features\n",
    "model = Sequential()\n",
    "model.add(layers.Dense(10, input_dim=input_dim, activation='relu'))\n",
    "model.add(layers.Dense(3, activation='sigmoid'))"
   ]
  },
  {
   "cell_type": "code",
   "execution_count": 35,
   "metadata": {},
   "outputs": [
    {
     "name": "stdout",
     "output_type": "stream",
     "text": [
      "_________________________________________________________________\n",
      "Layer (type)                 Output Shape              Param #   \n",
      "=================================================================\n",
      "dense_3 (Dense)              (None, 10)                277470    \n",
      "_________________________________________________________________\n",
      "dense_4 (Dense)              (None, 3)                 33        \n",
      "=================================================================\n",
      "Total params: 277,503\n",
      "Trainable params: 277,503\n",
      "Non-trainable params: 0\n",
      "_________________________________________________________________\n"
     ]
    }
   ],
   "source": [
    "model.compile(loss='sparse_categorical_crossentropy', \n",
    "              optimizer='adam', \n",
    "              metrics=['accuracy'])\n",
    "model.summary()"
   ]
  },
  {
   "cell_type": "code",
   "execution_count": 36,
   "metadata": {},
   "outputs": [
    {
     "name": "stdout",
     "output_type": "stream",
     "text": [
      "Train on 7999 samples, validate on 2000 samples\n",
      "Epoch 1/10\n",
      "7999/7999 [==============================] - 4s 522us/step - loss: 1.0929 - acc: 0.4779 - val_loss: 1.0831 - val_acc: 0.5770\n",
      "Epoch 2/10\n",
      "7999/7999 [==============================] - 4s 449us/step - loss: 1.0523 - acc: 0.7352 - val_loss: 1.0529 - val_acc: 0.6020\n",
      "Epoch 3/10\n",
      "7999/7999 [==============================] - 4s 455us/step - loss: 0.9795 - acc: 0.8246 - val_loss: 1.0125 - val_acc: 0.6050\n",
      "Epoch 4/10\n",
      "7999/7999 [==============================] - 4s 443us/step - loss: 0.8793 - acc: 0.8792 - val_loss: 0.9659 - val_acc: 0.6055\n",
      "Epoch 5/10\n",
      "7999/7999 [==============================] - 4s 446us/step - loss: 0.7558 - acc: 0.9086 - val_loss: 0.9173 - val_acc: 0.6015\n",
      "Epoch 6/10\n",
      "7999/7999 [==============================] - 4s 450us/step - loss: 0.6189 - acc: 0.9346 - val_loss: 0.8779 - val_acc: 0.6080\n",
      "Epoch 7/10\n",
      "7999/7999 [==============================] - 4s 469us/step - loss: 0.4874 - acc: 0.9480 - val_loss: 0.8552 - val_acc: 0.6055\n",
      "Epoch 8/10\n",
      "7999/7999 [==============================] - 4s 452us/step - loss: 0.3786 - acc: 0.9606 - val_loss: 0.8488 - val_acc: 0.6070\n",
      "Epoch 9/10\n",
      "7999/7999 [==============================] - 4s 452us/step - loss: 0.2956 - acc: 0.9711 - val_loss: 0.8529 - val_acc: 0.6075\n",
      "Epoch 10/10\n",
      "7999/7999 [==============================] - 4s 457us/step - loss: 0.2338 - acc: 0.9792 - val_loss: 0.8625 - val_acc: 0.6090\n"
     ]
    }
   ],
   "source": [
    "history = model.fit(X_train, y_train,\n",
    "                    epochs=10,\n",
    "                    verbose=True,\n",
    "                    validation_data=(X_test, y_test),\n",
    "                    batch_size=100)"
   ]
  },
  {
   "cell_type": "code",
   "execution_count": 37,
   "metadata": {},
   "outputs": [
    {
     "name": "stdout",
     "output_type": "stream",
     "text": [
      "Training Accuracy: 0.9847\n",
      "Testing Accuracy:  0.6090\n"
     ]
    }
   ],
   "source": [
    "loss, accuracy = model.evaluate(X_train, y_train, verbose=False)\n",
    "print(\"Training Accuracy: {:.4f}\".format(accuracy))\n",
    "loss, accuracy = model.evaluate(X_test, y_test, verbose=False)\n",
    "print(\"Testing Accuracy:  {:.4f}\".format(accuracy))"
   ]
  },
  {
   "cell_type": "code",
   "execution_count": 38,
   "metadata": {},
   "outputs": [],
   "source": [
    "def plot_history(history):\n",
    "    acc = history.history['acc']\n",
    "    val_acc = history.history['val_acc']\n",
    "    loss = history.history['loss']\n",
    "    val_loss = history.history['val_loss']\n",
    "    x = range(1, len(acc) + 1)\n",
    "\n",
    "    plt.figure(figsize=(12, 5))\n",
    "    plt.subplot(1, 2, 1)\n",
    "    plt.plot(x, acc, 'b', label='Training acc')\n",
    "    plt.plot(x, val_acc, 'r', label='Validation acc')\n",
    "    plt.title('Training and validation accuracy')\n",
    "    plt.legend()\n",
    "    plt.subplot(1, 2, 2)\n",
    "    plt.plot(x, loss, 'b', label='Training loss')\n",
    "    plt.plot(x, val_loss, 'r', label='Validation loss')\n",
    "    plt.title('Training and validation loss')\n",
    "    plt.legend()"
   ]
  },
  {
   "cell_type": "code",
   "execution_count": 39,
   "metadata": {},
   "outputs": [
    {
     "data": {
      "image/png": "[encoded data removed]",
      "text/plain": [
       "<Figure size 864x360 with 2 Axes>"
      ]
     },
     "metadata": {
      "needs_background": "light"
     },
     "output_type": "display_data"
    }
   ],
   "source": [
    "plot_history(history)\n"
   ]
  },
  {
   "cell_type": "code",
   "execution_count": null,
   "metadata": {},
   "outputs": [],
   "source": []
  }
 ],
 "metadata": {
  "kernelspec": {
   "display_name": "Python 3",
   "language": "python",
   "name": "python3"
  },
  "language_info": {
   "codemirror_mode": {
    "name": "ipython",
    "version": 3
   },
   "file_extension": ".py",
   "mimetype": "text/x-python",
   "name": "python",
   "nbconvert_exporter": "python",
   "pygments_lexer": "ipython3",
   "version": "3.8.5"
  }
 },
 "nbformat": 4,
 "nbformat_minor": 2
}
